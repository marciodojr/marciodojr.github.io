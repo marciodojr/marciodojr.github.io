{
 "cells": [
  {
   "cell_type": "raw",
   "id": "358e29b0",
   "metadata": {
    "vscode": {
     "languageId": "raw"
    }
   },
   "source": [
    "---\n",
    "title: \"Estruturas de Dados em Python\"\n",
    "description: \"Neste artigo você aprenderá quais as estruturas de dados mais comuns em python\"\n",
    "execute:\n",
    "  enabled: false\n",
    "---"
   ]
  },
  {
   "cell_type": "markdown",
   "id": "cb14f614",
   "metadata": {},
   "source": [
    "\n",
    "# Tutorial Básico: Estruturas de Dados em Python\n",
    "\n",
    "Este notebook apresenta, de forma prática e objetiva, as principais estruturas de dados do Python:\n",
    "**listas**, **tuplas**, **conjuntos** (*sets*) e **dicionários**. Também veremos **compreensões**, \n",
    "**cópias (rasas e profundas)**, e como usar **pilhas/filas** com `list` e `collections.deque`.\n",
    "\n",
    "> Recomendado para iniciantes e como revisão rápida.\n"
   ]
  },
  {
   "cell_type": "markdown",
   "id": "3bde9a48",
   "metadata": {},
   "source": [
    "\n",
    "## Sumário\n",
    "1. [Pré-requisitos e dicas](#pre)\n",
    "2. [Tipos básicos (contexto rápido)](#tipos)\n",
    "3. [Listas (`list`)](#listas)\n",
    "4. [Tuplas (`tuple`)](#tuplas)\n",
    "5. [Conjuntos (`set`, `frozenset`)](#sets)\n",
    "6. [Dicionários (`dict`)](#dicts)\n",
    "7. [Compreensões (list/set/dict)](#comps)\n",
    "8. [Cópias: rasa vs profunda](#copias)\n",
    "9. [Pilhas e Filas](#pilhasfilas)\n",
    "10. [Exercícios práticos](#exercicios)\n"
   ]
  },
  {
   "cell_type": "markdown",
   "id": "354d734b",
   "metadata": {},
   "source": [
    "## 1. Pré-requisitos e dicas\n",
    "\n",
    "- Ter o Python 3 instalado e noções básicas de variáveis e funções.\n",
    "- Use `print()` e experimente: modifique os exemplos!\n",
    "- Documentação oficial: https://docs.python.org/3/tutorial/\n"
   ]
  },
  {
   "cell_type": "markdown",
   "id": "b5e85d40",
   "metadata": {},
   "source": [
    "## 2. Tipos básicos (contexto rápido)\n",
    "\n",
    "Python tem vários tipos embutidos. Alguns úteis como contexto para as estruturas de dados:\n",
    "\n",
    "- `int`, `float`, `bool`\n",
    "- `str` (strings são **imutáveis**)\n",
    "- `None` (ausência de valor)\n",
    "- `bytes`, `bytearray` (úteis para dados binários)\n",
    "\n",
    "> As estruturas de dados que veremos a seguir **armazenam** esses valores.\n"
   ]
  },
  {
   "cell_type": "markdown",
   "id": "0ee569a1",
   "metadata": {},
   "source": [
    "\n",
    "## 3. Listas (`list`)\n",
    "\n",
    "- **Mutáveis**\n",
    "- Ordenadas (mantêm a ordem de inserção)\n",
    "- Permitem elementos repetidos\n",
    "- Acessadas por índice (começa em 0)\n"
   ]
  },
  {
   "cell_type": "code",
   "execution_count": 1,
   "id": "939c3ee7",
   "metadata": {},
   "outputs": [
    {
     "name": "stdout",
     "output_type": "stream",
     "text": [
      "lista: [10, 20, 30, 40]\n",
      "primeiro elemento: 10\n",
      "último elemento: 40\n",
      "slice 1..3: [20, 30]\n",
      "cópia rasa via slice: [10, 20, 30, 40]\n"
     ]
    }
   ],
   "source": [
    "# Criação e acesso\n",
    "nums = [10, 20, 30, 40]\n",
    "print(\"lista:\", nums)\n",
    "print(\"primeiro elemento:\", nums[0])\n",
    "print(\"último elemento:\", nums[-1])\n",
    "\n",
    "# Slicing (fatiamento)\n",
    "print(\"slice 1..3:\", nums[1:3])\n",
    "print(\"cópia rasa via slice:\", nums[:])  # nova lista com os mesmos itens\n"
   ]
  },
  {
   "cell_type": "code",
   "execution_count": 2,
   "id": "b5c5ea60",
   "metadata": {},
   "outputs": [
    {
     "name": "stdout",
     "output_type": "stream",
     "text": [
      "[3, 2, 1, 4, 1, 5, 9]\n",
      "[3, 2, 4, 1, 5, 9]\n",
      "popped: 9 | lista: [3, 2, 4, 1, 5]\n",
      "reversa: [5, 1, 4, 2, 3]\n",
      "sort: [1, 2, 3, 4, 5]\n",
      "sorted (cópia): [1, 1, 3, 4, 5]\n"
     ]
    }
   ],
   "source": [
    "# Métodos comuns\n",
    "nums = [3, 1, 4]\n",
    "nums.append(1)        # adiciona no fim\n",
    "nums.extend([5, 9])   # estende com iterável\n",
    "nums.insert(1, 2)     # insere na posição 1\n",
    "print(nums)\n",
    "\n",
    "nums.remove(1)        # remove primeira ocorrência de 1\n",
    "print(nums)\n",
    "\n",
    "popped = nums.pop()   # remove e retorna o último\n",
    "print(\"popped:\", popped, \"| lista:\", nums)\n",
    "\n",
    "nums.reverse()        # in-place\n",
    "print(\"reversa:\", nums)\n",
    "\n",
    "# sort in-place vs sorted (cópia ordenada)\n",
    "nums.sort()\n",
    "print(\"sort:\", nums)\n",
    "print(\"sorted (cópia):\", sorted([3,1,4,1,5]))\n"
   ]
  },
  {
   "cell_type": "code",
   "execution_count": 3,
   "id": "a3fce0ef",
   "metadata": {},
   "outputs": [
    {
     "name": "stdout",
     "output_type": "stream",
     "text": [
      "a: [1, 2, 3, 4] | b: [1, 2, 3, 4]\n",
      "a (após copy): [1, 2, 3, 4] | c: [1, 2, 3, 4, 5]\n"
     ]
    }
   ],
   "source": [
    "# Comportamento de mutabilidade\n",
    "a = [1, 2, 3]\n",
    "b = a           # b referencia a MESMA lista\n",
    "b.append(4)\n",
    "print(\"a:\", a, \"| b:\", b)  # ambos mudam\n",
    "\n",
    "# Se quiser uma cópia rasa:\n",
    "c = a.copy()\n",
    "c.append(5)\n",
    "print(\"a (após copy):\", a, \"| c:\", c)\n"
   ]
  },
  {
   "cell_type": "code",
   "execution_count": 4,
   "id": "c02d7d9c",
   "metadata": {},
   "outputs": [
    {
     "name": "stdout",
     "output_type": "stream",
     "text": [
      "m1: [[1, 2, 99], [3, 4]] | m2: [[1, 2, 99], [3, 4]]\n",
      "m1: [[1, 2, 99], [3, 4]] | m3: [[1, 2, 99], [3, 4, 77]]\n"
     ]
    }
   ],
   "source": [
    "# Listas aninhadas e armadilhas de cópia rasa\n",
    "import copy\n",
    "\n",
    "m1 = [[1,2],[3,4]]\n",
    "m2 = m1.copy()           # cópia rasa: sublistas são compartilhadas\n",
    "m2[0].append(99)\n",
    "print(\"m1:\", m1, \"| m2:\", m2)  # ambas afetadas\n",
    "\n",
    "m3 = copy.deepcopy(m1)   # cópia profunda: estrutura completa duplicada\n",
    "m3[1].append(77)\n",
    "print(\"m1:\", m1, \"| m3:\", m3)\n"
   ]
  },
  {
   "cell_type": "markdown",
   "id": "7f26a8f4",
   "metadata": {},
   "source": [
    "## 4. Tuplas (`tuple`)\n",
    "\n",
    "- **Imutáveis**\n",
    "- Ordenadas\n",
    "- Úteis para **agrupamento** de dados e como chaves de dicionários (quando composto por itens imutáveis)\n",
    "\n",
    "Dica: desembrulhar (unpacking) é muito prático com tuplas.\n"
   ]
  },
  {
   "cell_type": "code",
   "execution_count": 5,
   "id": "95c2393d",
   "metadata": {},
   "outputs": [
    {
     "name": "stdout",
     "output_type": "stream",
     "text": [
      "x=3, y=4\n",
      "<class 'tuple'> (42,)\n"
     ]
    }
   ],
   "source": [
    "# Criação e unpacking\n",
    "ponto = (3, 4)\n",
    "x, y = ponto\n",
    "print(f\"x={x}, y={y}\")\n",
    "\n",
    "# Tupla de 1 elemento precisa de vírgula final\n",
    "um = (42,)\n",
    "print(type(um), um)\n"
   ]
  },
  {
   "cell_type": "markdown",
   "id": "310700d5",
   "metadata": {},
   "source": [
    "## 5. Conjuntos (`set`, `frozenset`)\n",
    "\n",
    "- **Não ordenados** (sem índices)\n",
    "- **Únicos** (eliminam duplicatas)\n",
    "- Operações de teoria de conjuntos: união, interseção, diferença\n",
    "\n",
    "`frozenset` é a versão **imutável** de `set`.\n"
   ]
  },
  {
   "cell_type": "code",
   "execution_count": 6,
   "id": "6a7e9066",
   "metadata": {},
   "outputs": [
    {
     "name": "stdout",
     "output_type": "stream",
     "text": [
      "A (sem duplicatas): {1, 2, 3}\n",
      "B: {3, 4, 5}\n",
      "união: {1, 2, 3, 4, 5}\n",
      "interseção: {3}\n",
      "diferença A-B: {1, 2}\n",
      "diferença simétrica: {1, 2, 4, 5}\n",
      "frozenset: frozenset({1, 2, 3})\n"
     ]
    }
   ],
   "source": [
    "A = {1, 2, 3, 3}\n",
    "B = set([3, 4, 5])\n",
    "\n",
    "print(\"A (sem duplicatas):\", A)\n",
    "print(\"B:\", B)\n",
    "print(\"união:\", A | B)\n",
    "print(\"interseção:\", A & B)\n",
    "print(\"diferença A-B:\", A - B)\n",
    "print(\"diferença simétrica:\", A ^ B)\n",
    "\n",
    "# frozenset\n",
    "F = frozenset([1,2,2,3])\n",
    "print(\"frozenset:\", F)\n"
   ]
  },
  {
   "cell_type": "markdown",
   "id": "fe9e1c2e",
   "metadata": {},
   "source": [
    "## 6. Dicionários (`dict`)\n",
    "\n",
    "- **Mutáveis**\n",
    "- Mapeiam **chaves** para **valores**\n",
    "- Desde o Python 3.7 preservam a ordem de inserção\n",
    "\n",
    "Chaves precisam ser **hashable** (imutáveis, como `str`, `int`, `tuple` de imutáveis, `frozenset`).\n"
   ]
  },
  {
   "cell_type": "code",
   "execution_count": 7,
   "id": "c6014862",
   "metadata": {},
   "outputs": [
    {
     "name": "stdout",
     "output_type": "stream",
     "text": [
      "preços: {'banana': 5.0, 'maçã': 4.5}\n",
      "preço da maçã: 4.5\n",
      "preço da pera (default -1): -1\n",
      "{'banana': 5.5, 'maçã': 4.5, 'laranja': 6.0}\n",
      "removido: 6.0 | atual: {'banana': 5.5, 'maçã': 4.5}\n",
      "banana -> 5.5\n",
      "maçã -> 4.5\n"
     ]
    }
   ],
   "source": [
    "# Criação e acesso\n",
    "precos = {\"banana\": 5.0, \"maçã\": 4.5}\n",
    "print(\"preços:\", precos)\n",
    "print(\"preço da maçã:\", precos[\"maçã\"])\n",
    "\n",
    "# get com default (evita KeyError)\n",
    "print(\"preço da pera (default -1):\", precos.get(\"pera\", -1))\n",
    "\n",
    "# Inserção/atualização\n",
    "precos[\"laranja\"] = 6.0\n",
    "precos.update({\"banana\": 5.5})\n",
    "print(precos)\n",
    "\n",
    "# Remoção\n",
    "val = precos.pop(\"laranja\")\n",
    "print(\"removido:\", val, \"| atual:\", precos)\n",
    "\n",
    "# Iteração\n",
    "for fruta, valor in precos.items():\n",
    "    print(fruta, \"->\", valor)\n"
   ]
  },
  {
   "cell_type": "code",
   "execution_count": 8,
   "id": "fec4ee5b",
   "metadata": {},
   "outputs": [
    {
     "name": "stdout",
     "output_type": "stream",
     "text": [
      "keys: ['a', 'b']\n",
      "values: [1, 2]\n",
      "items: [('a', 1), ('b', 2)]\n",
      "contagens: {'b': 1, 'a': 3, 'n': 2}\n"
     ]
    }
   ],
   "source": [
    "# Métodos úteis\n",
    "d = {\"a\": 1, \"b\": 2}\n",
    "print(\"keys:\", list(d.keys()))\n",
    "print(\"values:\", list(d.values()))\n",
    "print(\"items:\", list(d.items()))\n",
    "\n",
    "# setdefault: retorna valor existente ou define default\n",
    "contagens = {}\n",
    "for ch in \"banana\":\n",
    "    contagens.setdefault(ch, 0)\n",
    "    contagens[ch] += 1\n",
    "print(\"contagens:\", contagens)\n"
   ]
  },
  {
   "cell_type": "markdown",
   "id": "dbce4459",
   "metadata": {},
   "source": [
    "## 7. Compreensões (list/set/dict)\n",
    "\n",
    "Forma concisa e pythonista de construir coleções.\n"
   ]
  },
  {
   "cell_type": "code",
   "execution_count": 9,
   "id": "e79455c3",
   "metadata": {},
   "outputs": [
    {
     "name": "stdout",
     "output_type": "stream",
     "text": [
      "quadrados: [0, 1, 4, 9, 16, 25]\n",
      "pares: [0, 2, 4, 6, 8]\n",
      "dict: {0: 0, 1: 1, 2: 4, 3: 9, 4: 16}\n",
      "set: {'r', 'a', 'd'}\n"
     ]
    }
   ],
   "source": [
    "# List comprehension\n",
    "quadrados = [x*x for x in range(6)]\n",
    "print(\"quadrados:\", quadrados)\n",
    "\n",
    "# Com condição (if)\n",
    "pares = [x for x in range(10) if x % 2 == 0]\n",
    "print(\"pares:\", pares)\n",
    "\n",
    "# Dict comprehension\n",
    "d = {x: x*x for x in range(5)}\n",
    "print(\"dict:\", d)\n",
    "\n",
    "# Set comprehension\n",
    "s = {ch for ch in \"abracadabra\" if ch not in \"bc\"}\n",
    "print(\"set:\", s)\n"
   ]
  },
  {
   "cell_type": "markdown",
   "id": "768cd71f",
   "metadata": {},
   "source": [
    "## 8. Cópias: shallow vs deep\n",
    "\n",
    "- **Cópia rasa** (shallow): duplica apenas o contêiner, **compartilha** referências internas.\n",
    "  - Exemplos: `list.copy()`, `dict.copy()`, `set.copy()`, slicing (`seq[:]`), `copy.copy(obj)`\n",
    "- **Cópia profunda** (deep): duplica recursivamente toda a estrutura.\n",
    "  - Exemplo: `copy.deepcopy(obj)`\n"
   ]
  },
  {
   "cell_type": "code",
   "execution_count": 10,
   "id": "76953b9c",
   "metadata": {},
   "outputs": [
    {
     "name": "stdout",
     "output_type": "stream",
     "text": [
      "original: {'nums': [1, 2, 3, 99], 'ok': True}\n",
      "shallow : {'nums': [1, 2, 3, 99], 'ok': True}\n",
      "deep    : {'nums': [1, 2, 3, 77], 'ok': True}\n"
     ]
    }
   ],
   "source": [
    "import copy\n",
    "\n",
    "original = {\"nums\": [1,2,3], \"ok\": True}\n",
    "shallow = original.copy()\n",
    "deep = copy.deepcopy(original)\n",
    "\n",
    "shallow[\"nums\"].append(99)\n",
    "deep[\"nums\"].append(77)\n",
    "\n",
    "print(\"original:\", original)\n",
    "print(\"shallow :\", shallow)\n",
    "print(\"deep    :\", deep)\n"
   ]
  },
  {
   "cell_type": "markdown",
   "id": "ee76596c",
   "metadata": {},
   "source": [
    "## 9. Pilhas e Filas\n",
    "\n",
    "- **Pilha (stack)**: LIFO. Use `list` com `append()` / `pop()`.\n",
    "- **Fila (queue)**: FIFO. Prefira `collections.deque` (eficiente em ambos os lados).\n"
   ]
  },
  {
   "cell_type": "code",
   "execution_count": 11,
   "id": "e4d9f824",
   "metadata": {},
   "outputs": [
    {
     "name": "stdout",
     "output_type": "stream",
     "text": [
      "pop: b\n",
      "resto: ['a']\n"
     ]
    }
   ],
   "source": [
    "# Pilha com list\n",
    "stack = []\n",
    "stack.append(\"a\")\n",
    "stack.append(\"b\")\n",
    "print(\"pop:\", stack.pop())  # remove \"b\"\n",
    "print(\"resto:\", stack)\n"
   ]
  },
  {
   "cell_type": "code",
   "execution_count": 12,
   "id": "97370aec",
   "metadata": {},
   "outputs": [
    {
     "name": "stdout",
     "output_type": "stream",
     "text": [
      "popleft: primeiro\n",
      "resto: deque(['segundo'])\n"
     ]
    }
   ],
   "source": [
    "# Fila com deque\n",
    "from collections import deque\n",
    "\n",
    "fila = deque()\n",
    "fila.append(\"primeiro\")\n",
    "fila.append(\"segundo\")\n",
    "print(\"popleft:\", fila.popleft())  # remove \"primeiro\"\n",
    "print(\"resto:\", fila)\n"
   ]
  },
  {
   "cell_type": "markdown",
   "id": "e5aabd97",
   "metadata": {},
   "source": [
    "## 10. Exercícios práticos\n",
    "\n",
    "Execute as células e complete onde indicado. Há *asserts* para conferir automaticamente.\n"
   ]
  },
  {
   "cell_type": "code",
   "execution_count": 13,
   "id": "f0404703",
   "metadata": {},
   "outputs": [
    {
     "name": "stdout",
     "output_type": "stream",
     "text": [
      "OK 10.1\n"
     ]
    }
   ],
   "source": [
    "# 10.1) Remova duplicatas preservando a ordem usando set de apoio\n",
    "def remove_duplicatas(seq):\n",
    "    vistos = set()\n",
    "    res = []\n",
    "    for x in seq:\n",
    "        if x not in vistos:\n",
    "            vistos.add(x)\n",
    "            res.append(x)\n",
    "    return res\n",
    "\n",
    "assert remove_duplicatas([1,2,1,3,2,1,4]) == [1,2,3,4]\n",
    "print(\"OK 10.1\")\n"
   ]
  },
  {
   "cell_type": "code",
   "execution_count": 14,
   "id": "e9dd04fb",
   "metadata": {},
   "outputs": [
    {
     "name": "stdout",
     "output_type": "stream",
     "text": [
      "OK 10.2\n"
     ]
    }
   ],
   "source": [
    "# 10.2) Construa um dicionário de contagem de caracteres (case-insensitive) para uma string s\n",
    "def contagem_chars(s):\n",
    "    s = s.lower()\n",
    "    cont = {}\n",
    "    for ch in s:\n",
    "        if ch.isalpha():\n",
    "            cont[ch] = cont.get(ch, 0) + 1\n",
    "    return cont\n",
    "\n",
    "assert contagem_chars(\"Banana!\") == {\"b\":1, \"a\":3, \"n\":2}\n",
    "print(\"OK 10.2\")\n"
   ]
  },
  {
   "cell_type": "code",
   "execution_count": 15,
   "id": "be9c8280",
   "metadata": {},
   "outputs": [
    {
     "name": "stdout",
     "output_type": "stream",
     "text": [
      "OK 10.3\n"
     ]
    }
   ],
   "source": [
    "# 10.3) Use comprehension para obter os quadrados dos pares de 0..20\n",
    "quadrados_pares = [x*x for x in range(21) if x % 2 == 0]\n",
    "assert quadrados_pares[:5] == [0, 4, 16, 36, 64]\n",
    "print(\"OK 10.3\")\n"
   ]
  },
  {
   "cell_type": "code",
   "execution_count": 16,
   "id": "f5d03bac",
   "metadata": {},
   "outputs": [
    {
     "name": "stdout",
     "output_type": "stream",
     "text": [
      "OK 10.4 — gerado em 2025-08-09 22:49:32\n"
     ]
    }
   ],
   "source": [
    "# 10.4) Extra: converter uma lista de pares (chave, valor) em dict e inverter (valor->chave)\n",
    "pares = [(\"a\",1), (\"b\",2), (\"c\",3)]\n",
    "d = dict(pares)\n",
    "invertido = {v:k for k,v in d.items()}\n",
    "assert d[\"b\"] == 2 and invertido[3] == \"c\"\n",
    "print(\"OK 10.4 — gerado em 2025-08-09 22:49:32\")\n"
   ]
  },
  {
   "cell_type": "markdown",
   "id": "8a60f2c9",
   "metadata": {},
   "source": [
    "### Onde continuar?\n",
    "\n",
    "- Documentação oficial: *Built-in Types* e *Data Structures* no tutorial do Python.\n",
    "- `collections` (e.g., `Counter`, `defaultdict`, `namedtuple`), `heapq`, `array`, `bisect`.\n",
    "- Pratique escrevendo funções que **consomem** e **produzem** essas estruturas.\n"
   ]
  }
 ],
 "metadata": {
  "kernelspec": {
   "display_name": "aprendihoje",
   "language": "python",
   "name": "python3"
  },
  "language_info": {
   "codemirror_mode": {
    "name": "ipython",
    "version": 3
   },
   "file_extension": ".py",
   "mimetype": "text/x-python",
   "name": "python",
   "nbconvert_exporter": "python",
   "pygments_lexer": "ipython3",
   "version": "3.13.5"
  }
 },
 "nbformat": 4,
 "nbformat_minor": 5
}
